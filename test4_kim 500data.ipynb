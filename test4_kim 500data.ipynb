{
 "cells": [
  {
   "cell_type": "code",
   "execution_count": null,
   "metadata": {},
   "outputs": [],
   "source": [
    "import pandas as pd\n",
    "import numpy as np\n",
    "import holidays\n",
    "from pycaret.time_series import TSForecastingExperiment\n",
    "from scipy.stats import boxcox\n",
    "from scipy.special import inv_boxcox\n",
    "\n",
    "# อ่านข้อมูล CSV และตั้งค่า timestamp เป็น index\n",
    "df = pd.read_csv(\"cleaned_data.csv\", parse_dates=[\"timestamp\"])\n",
    "# df =df[-500:]\n",
    "df[\"timestamp\"] = pd.to_datetime(df[\"timestamp\"], errors='coerce').dt.floor('s')  # ตัดมิลลิวินาทีออกไป\n",
    "df.set_index(\"timestamp\", inplace=True)\n",
    "df = df[[\"pm_2_5\"]]\n",
    "# ลบค่าที่ซ้ำกันใน index\n",
    "df = df[~df.index.duplicated(keep=\"last\")]\n",
    "\n",
    "# กำหนดความถี่ของข้อมูลเป็นรายชั่วโมง (H)\n",
    "df = df.asfreq(\"H\")\n",
    "\n",
    "# เติมค่าหายไปโดยใช้ Interpolation แบบ Time-based\n",
    "df.interpolate(method='time', inplace=True)\n",
    "\n",
    "# กรองค่า pm_2_5 ให้อยู่ในช่วง 0 ถึง 80\n",
    "df = df[(df['pm_2_5'] >= 0) & (df['pm_2_5'] <= 80)]\n",
    "\n",
    "# เพิ่มฟีเจอร์ วัน เดือน ปี\n",
    "df['day'] = df.index.day\n",
    "df['month'] = df.index.month\n",
    "df['year'] = df.index.year\n",
    "\n",
    "# ฟังก์ชันระบุฤดูกาลของไทย\n",
    "def get_thai_season(month):\n",
    "    if month in [3, 4, 5]:\n",
    "        return 'summer'\n",
    "    elif month in [6, 7, 8, 9, 10]:\n",
    "        return 'rainy'\n",
    "    else:\n",
    "        return 'winter'\n",
    "\n",
    "# เพิ่มคอลัมน์ฤดูกาล\n",
    "df['season'] = df['month'].apply(get_thai_season)\n",
    "# One-hot encoding ฤดูกาล\n",
    "df = pd.get_dummies(df, columns=['season'], prefix='season')\n",
    "\n",
    "# # แปลงค่า True/False เป็น 1/0\n",
    "df[['season_rainy', 'season_summer', 'season_winter']] = df[['season_rainy', 'season_summer', 'season_winter']].astype(int)\n",
    "\n",
    "# เพิ่มคอลัมน์วันหยุดของไทย\n",
    "thai_holidays = holidays.TH(years=sorted(df.index.year.unique()))\n",
    "df['is_holiday'] = df.index.to_series().apply(lambda x: 1 if x in thai_holidays else 0)\n",
    "df = df[-10000:]\n",
    "print(df)\n",
    "\n",
    "# แบ่งข้อมูล Train-Test\n",
    "train_size = len(df) - 48\n",
    "if train_size < 0:\n",
    "    raise ValueError(\"จำนวนข้อมูลไม่เพียงพอสำหรับการแบ่ง Train-Test\")\n",
    "train_df = df.iloc[:train_size]\n",
    "test_df = df.iloc[train_size:]\n",
    "\n",
    "# แปลงค่า pm_2_5 ด้วย Box-Cox Transformation\n",
    "train_df['pm_2_5'], lambda_ = boxcox(train_df['pm_2_5'] + 1)\n",
    "\n",
    "# เติมค่าที่หายไปใน train_df\n",
    "train_df['pm_2_5'].interpolate(method='time', inplace=True)\n",
    "\n",
    "# Interpolation ข้อมูลที่หายไปใน test set\n",
    "test_df.interpolate(method='time', inplace=True)\n",
    "train_df = train_df.asfreq(\"H\")\n",
    "test_df = test_df.asfreq(\"H\")\n",
    "train_df['pm_2_5'].interpolate(method='time', inplace=True)\n",
    "test_df['pm_2_5'].interpolate(method='time', inplace=True)\n",
    "# ตรวจสอบค่าที่หายไป\n",
    "print(\"Missing values in train_df['pm_2_5']:\", train_df['pm_2_5'].isnull().sum())\n",
    "print(\"Missing values in test_df['pm_2_5']:\", test_df['pm_2_5'].isnull().sum())\n"
   ]
  },
  {
   "cell_type": "code",
   "execution_count": null,
   "metadata": {},
   "outputs": [
    {
     "ename": "NameError",
     "evalue": "name 'exp' is not defined",
     "output_type": "error",
     "traceback": [
      "\u001b[1;31m---------------------------------------------------------------------------\u001b[0m",
      "\u001b[1;31mNameError\u001b[0m                                 Traceback (most recent call last)",
      "Cell \u001b[1;32mIn[1], line 2\u001b[0m\n\u001b[0;32m      1\u001b[0m \u001b[38;5;66;03m# บันทึกโมเดล\u001b[39;00m\n\u001b[1;32m----> 2\u001b[0m \u001b[43mexp\u001b[49m\u001b[38;5;241m.\u001b[39msave_model(model, \u001b[38;5;124m'\u001b[39m\u001b[38;5;124marima_model\u001b[39m\u001b[38;5;124m'\u001b[39m)\n\u001b[0;32m      4\u001b[0m \u001b[38;5;66;03m# test_df = test_df.index.to_datetime()\u001b[39;00m\n\u001b[0;32m      5\u001b[0m \u001b[38;5;28mprint\u001b[39m(test_df)\n",
      "\u001b[1;31mNameError\u001b[0m: name 'exp' is not defined"
     ]
    }
   ],
   "source": [
    "\n",
    "# ตั้งค่า PyCaret\n",
    "exp = TSForecastingExperiment()\n",
    "exp.setup(\n",
    "    data=train_df,\n",
    "    target='pm_2_5',\n",
    "    session_id=123,\n",
    "    fh=48,\n",
    "    use_gpu=True,\n",
    "    seasonal_period=24,\n",
    "    numeric_imputation_target='mean',  # เติมค่าที่หายไปด้วยค่าเฉลี่ย\n",
    "    numeric_imputation_exogenous='mean'  # เติมค่าที่หายไปด้วยค่าเฉลี่ย\n",
    ")\n",
    "\n",
    "# สร้างและจูนโมเดล ARIMA\n",
    "model = exp.create_model('arima', order=(1, 1, 1), seasonal_order=(1, 1, 1, 24))\n"
   ]
  },
  {
   "cell_type": "code",
   "execution_count": null,
   "metadata": {},
   "outputs": [],
   "source": [
    "model = exp.tune_model(model)\n"
   ]
  },
  {
   "cell_type": "code",
   "execution_count": null,
   "metadata": {},
   "outputs": [],
   "source": [
    "model = exp.finalize_model(model)\n",
    "\n"
   ]
  },
  {
   "cell_type": "code",
   "execution_count": null,
   "metadata": {},
   "outputs": [],
   "source": [
    "# ทำนายค่า pm_2_5\n",
    "forecast = exp.predict_model(model, fh=24, X=test_df.drop(columns=\"pm_2_5\", errors='ignore'))\n",
    "\n",
    "# แปลงค่าทำนายกลับจาก Box-Cox\n",
    "forecast['y_pred'] = inv_boxcox(forecast['y_pred'], lambda_) - 1\n",
    "forecast['y_pred'] = np.maximum(forecast['y_pred'], 0)\n",
    "\n",
    "# แสดงผลลัพธ์\n",
    "print(forecast)"
   ]
  },
  {
   "cell_type": "code",
   "execution_count": null,
   "metadata": {},
   "outputs": [
    {
     "name": "stdout",
     "output_type": "stream",
     "text": [
      "               pm_2_5  day  month  year  season_rainy  season_summer  \\\n",
      "2025-01-28  10.800574   28      1  2025             0              0   \n",
      "2025-01-29  10.605639   29      1  2025             0              0   \n",
      "2025-01-30  14.708435   30      1  2025             0              0   \n",
      "2025-01-31  16.408323   31      1  2025             0              0   \n",
      "2025-02-01  27.336896    1      2  2025             0              0   \n",
      "2025-02-02  30.186564    2      2  2025             0              0   \n",
      "2025-02-03  30.616034    3      2  2025             0              0   \n",
      "2025-02-04  18.877155    4      2  2025             0              0   \n",
      "2025-02-05   6.793629    5      2  2025             0              0   \n",
      "2025-02-06  10.463530    6      2  2025             0              0   \n",
      "2025-02-07  19.059025    7      2  2025             0              0   \n",
      "2025-02-08  19.064854    8      2  2025             0              0   \n",
      "2025-02-09  13.824501    9      2  2025             0              0   \n",
      "2025-02-10  18.744632   10      2  2025             0              0   \n",
      "2025-02-11  25.979693   11      2  2025             0              0   \n",
      "\n",
      "            season_winter  is_holiday  \n",
      "2025-01-28              1           0  \n",
      "2025-01-29              1           0  \n",
      "2025-01-30              1           0  \n",
      "2025-01-31              1           0  \n",
      "2025-02-01              1           0  \n",
      "2025-02-02              1           0  \n",
      "2025-02-03              1           0  \n",
      "2025-02-04              1           0  \n",
      "2025-02-05              1           0  \n",
      "2025-02-06              1           0  \n",
      "2025-02-07              1           0  \n",
      "2025-02-08              1           0  \n",
      "2025-02-09              1           0  \n",
      "2025-02-10              1           0  \n",
      "2025-02-11              1           0  \n"
     ]
    }
   ],
   "source": [
    "print(test_df)"
   ]
  },
  {
   "cell_type": "code",
   "execution_count": null,
   "metadata": {},
   "outputs": [
    {
     "name": "stdout",
     "output_type": "stream",
     "text": [
      "MAE: 5.4474\n",
      "MSE: 47.0706\n",
      "RMSE: 6.8608\n",
      "MAPE: 37.70%\n",
      "0.09595384725230871\n",
      "R² (ความแม่นยำ): 9.60%\n",
      "ความแม่นยำ (Accuracy): 70.12%\n"
     ]
    }
   ],
   "source": [
    "from sklearn.metrics import mean_absolute_error, mean_squared_error, r2_score\n",
    "\n",
    "# ดึงค่าจริงจาก test_df\n",
    "actual = test_df['pm_2_5']\n",
    "\n",
    "# ดึงค่าทำนายจาก forecast\n",
    "predicted = forecast['y_pred']\n",
    "\n",
    "# คำนวณ MAE\n",
    "mae = mean_absolute_error(actual, predicted)\n",
    "\n",
    "# คำนวณ MSE\n",
    "mse = mean_squared_error(actual, predicted)\n",
    "\n",
    "# คำนวณ RMSE\n",
    "rmse = np.sqrt(mse)\n",
    "\n",
    "# คำนวณ MAPE\n",
    "def calculate_mape(actual, predicted):\n",
    "    return np.mean(np.abs((actual - predicted) / actual)) * 100\n",
    "\n",
    "mape = calculate_mape(actual, predicted)\n",
    "\n",
    "# คำนวณ R²\n",
    "r2 = r2_score(actual, predicted)\n",
    "\n",
    "# คำนวณความแม่นยำ (Accuracy)\n",
    "mean_actual = np.mean(actual)\n",
    "accuracy = (1 - (mae / mean_actual)) * 100\n",
    "\n",
    "# แสดงผลลัพธ์\n",
    "print(f\"MAE: {mae:.4f}\")\n",
    "print(f\"MSE: {mse:.4f}\")\n",
    "print(f\"RMSE: {rmse:.4f}\")\n",
    "print(f\"MAPE: {mape:.2f}%\")\n",
    "print(r2)\n",
    "print(f\"R² (ความแม่นยำ): {r2 * 100:.2f}%\")\n",
    "print(f\"ความแม่นยำ (Accuracy): {accuracy:.2f}%\")"
   ]
  }
 ],
 "metadata": {
  "kernelspec": {
   "display_name": "venv",
   "language": "python",
   "name": "python3"
  },
  "language_info": {
   "codemirror_mode": {
    "name": "ipython",
    "version": 3
   },
   "file_extension": ".py",
   "mimetype": "text/x-python",
   "name": "python",
   "nbconvert_exporter": "python",
   "pygments_lexer": "ipython3",
   "version": "3.10.11"
  }
 },
 "nbformat": 4,
 "nbformat_minor": 2
}
