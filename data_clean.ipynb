{
 "cells": [
  {
   "cell_type": "code",
   "execution_count": 4,
   "metadata": {},
   "outputs": [
    {
     "name": "stdout",
     "output_type": "stream",
     "text": [
      "   Unnamed: 0            timestamp      timezone   humidity      pm_10  \\\n",
      "0           0  2023-04-01 07:00:00  Asia/Bangkok  73.861694   4.727273   \n",
      "1           1  2023-04-03 07:00:00  Asia/Bangkok  67.872493  16.046366   \n",
      "2           2  2023-04-04 07:00:00  Asia/Bangkok  62.995952  13.300139   \n",
      "3           3  2023-04-05 07:00:00  Asia/Bangkok  59.482051  11.864336   \n",
      "4           4  2023-04-06 07:00:00  Asia/Bangkok  66.493574  16.405837   \n",
      "\n",
      "      pm_2_5  pm_2_5_sp  temperature  \n",
      "0   4.727273   4.727273    30.189449  \n",
      "1  14.585213  14.699248    29.895143  \n",
      "2  11.938022  11.942897    33.853401  \n",
      "3  10.733566  10.733566    35.772219  \n",
      "4  14.758860  14.840167    31.862498  \n"
     ]
    }
   ],
   "source": [
    "import pandas as pd\n",
    "\n",
    "df = pd.read_csv(\"data_eng_day.csv\")  # อ่านไฟล์ CSV\n",
    "print(df.head())  # แสดง 5 บรรทัดแรกของข้อมูล\n"
   ]
  },
  {
   "cell_type": "code",
   "execution_count": 5,
   "metadata": {},
   "outputs": [
    {
     "name": "stdout",
     "output_type": "stream",
     "text": [
      "<class 'pandas.core.frame.DataFrame'>\n",
      "RangeIndex: 663 entries, 0 to 662\n",
      "Data columns (total 8 columns):\n",
      " #   Column       Non-Null Count  Dtype  \n",
      "---  ------       --------------  -----  \n",
      " 0   Unnamed: 0   663 non-null    int64  \n",
      " 1   timestamp    663 non-null    object \n",
      " 2   timezone     663 non-null    object \n",
      " 3   humidity     663 non-null    float64\n",
      " 4   pm_10        663 non-null    float64\n",
      " 5   pm_2_5       663 non-null    float64\n",
      " 6   pm_2_5_sp    663 non-null    float64\n",
      " 7   temperature  663 non-null    float64\n",
      "dtypes: float64(5), int64(1), object(2)\n",
      "memory usage: 41.6+ KB\n"
     ]
    }
   ],
   "source": [
    "df.info()"
   ]
  }
 ],
 "metadata": {
  "kernelspec": {
   "display_name": ".venv",
   "language": "python",
   "name": "python3"
  },
  "language_info": {
   "codemirror_mode": {
    "name": "ipython",
    "version": 3
   },
   "file_extension": ".py",
   "mimetype": "text/x-python",
   "name": "python",
   "nbconvert_exporter": "python",
   "pygments_lexer": "ipython3",
   "version": "3.10.0"
  }
 },
 "nbformat": 4,
 "nbformat_minor": 2
}
