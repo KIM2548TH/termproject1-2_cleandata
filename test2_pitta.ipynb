{
 "cells": [
  {
   "cell_type": "code",
   "execution_count": null,
   "metadata": {},
   "outputs": [],
   "source": [
    "from pycaret.time_series import *\n",
    "import pandas as pd\n",
    "\n",
    "# อ่านข้อมูลจากไฟล์ CSV\n",
    "df = pd.read_csv(\"province/data_eng_day.csv\", parse_dates=[\"timestamp\"], index_col=\"timestamp\")\n",
    "df = df.drop(columns=[\"Unnamed: 0\"])\n",
    "\n",
    "# นับจำนวน index ที่ซ้ำกันและแสดงค่าที่ซ้ำ\n",
    "print(df.index.duplicated().sum())  # นับจำนวน index ที่ซ้ำกัน\n",
    "print(df.index[df.index.duplicated()])  # แสดงค่าที่ซ้ำ\n",
    "\n",
    "# ลบ index ที่ซ้ำกันและตั้งค่าความถี่เป็นรายวัน\n",
    "df = df[~df.index.duplicated(keep=\"last\")]\n",
    "df = df.asfreq(\"D\")  # ตั้งค่าความถี่เป็นรายวัน\n",
    "df = df.interpolate()\n",
    "\n",
    "# ตรวจสอบข้อมูลอีกครั้ง\n",
    "print(\"จำนวน index ที่ซ้ำกันหลังจากแก้ไข:\", df.index.duplicated().sum())\n",
    "print(\"Index เป็น unique หรือไม่:\", df.index.is_unique)\n",
    "\n",
    "# แปลงคอลัมน์ timestamp ให้เป็น DatetimeIndex หากยังไม่ได้ทำ\n",
    "df.index = pd.to_datetime(df.index)\n",
    "\n",
    "# ตรวจสอบให้แน่ใจว่าไม่มีคอลัมน์ที่ไม่ต้องการ\n",
    "df = df[['pm_2_5', 'humidity', 'pm_10', 'temperature']]  # ใช้เฉพาะคอลัมน์ที่ต้องการ\n",
    "\n",
    "# แบ่งข้อมูลเป็น train set และ test set\n",
    "train_size = int(len(df)) - 7\n",
    "train_df = df.iloc[:train_size]  # ใช้ข้อมูลก่อนหน้าทั้งหมดเป็น train set\n",
    "test_df = df.iloc[train_size:]  \n",
    "train_df.index = train_df.index.to_period(\"D\")\n",
    "test_df.index = test_df.index.to_period(\"D\")\n",
    "print(len(train_df), len(test_df))\n",
    "\n",
    "# ตั้งค่า PyCaret และทำ differencing ข้อมูล\n",
    "exp = TSForecastingExperiment()\n",
    "exp.setup(data=train_df, target='pm_10', session_id=123, transform_target=True)\n",
    "\n",
    "# แสดงข้อมูลที่ผ่านการ differencing แล้ว\n",
    "differenced_data = exp.get_config('X')\n",
    "print(differenced_data)"
   ]
  }
 ],
 "metadata": {
  "kernelspec": {
   "display_name": "venv",
   "language": "python",
   "name": "python3"
  },
  "language_info": {
   "name": "python",
   "version": "3.10.0"
  }
 },
 "nbformat": 4,
 "nbformat_minor": 2
}
